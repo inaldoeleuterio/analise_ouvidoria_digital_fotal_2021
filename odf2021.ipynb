{
  "cells": [
    {
      "cell_type": "markdown",
      "metadata": {
        "id": "view-in-github",
        "colab_type": "text"
      },
      "source": [
        "<a href=\"https://colab.research.google.com/github/inaldoeleuterio/analise_ouvidoria_digital_fotal_2021/blob/main/odf2021.ipynb\" target=\"_parent\"><img src=\"https://colab.research.google.com/assets/colab-badge.svg\" alt=\"Open In Colab\"/></a>"
      ]
    },
    {
      "cell_type": "markdown",
      "id": "3b3ccd06",
      "metadata": {
        "id": "3b3ccd06"
      },
      "source": [
        "# Manifestações da ouvidoria digital 2021 da cidade de Fortaleza:<br>uma breve análise"
      ]
    },
    {
      "cell_type": "markdown",
      "id": "a064175d",
      "metadata": {
        "id": "a064175d"
      },
      "source": [
        "INTRODUÇÃO \n",
        "\n",
        "A Ouvidoria Digital de Fortaleza é uma instância de participação e controle social que permite identificar melhorias para a gestão e serviços públicos. Ela se disponhe a ser o canal de interação para falar sobre os serviços municipais.\n",
        "\n",
        "Neste notebook iremos realizar uma análise exploratória sobre alguns aspectos dos dados disponibilizados pelo site [Dados Abertos Fortaleza](https://dados.fortaleza.ce.gov.br/) referente ao ano de 2021."
      ]
    },
    {
      "cell_type": "code",
      "execution_count": 1,
      "id": "67b1e74f",
      "metadata": {
        "id": "67b1e74f"
      },
      "outputs": [],
      "source": [
        "# Importa bibliotecas para lidar com o sistema\n",
        "import requests\n",
        "import os\n",
        "\n",
        "# Importa bibliotecas numéricas e de manipulação de matrizes\n",
        "import numpy as np\n",
        "import pandas as pd\n",
        "\n",
        "# Importa a biblioteca gráfica básica e definindo parâmetros para grid vertical\n",
        "import matplotlib.pyplot as plt\n",
        "plt.rcParams['axes.grid'] = True\n",
        "plt.rcParams['axes.grid.which'] = 'both'\n",
        "plt.rcParams['xtick.minor.visible'] = True\n",
        "\n",
        "# Biblioteca apenas para ignorar avisos afim de evitar poluição visual\n",
        "import warnings\n",
        "warnings.filterwarnings(\"ignore\")"
      ]
    },
    {
      "cell_type": "code",
      "execution_count": 2,
      "id": "f124908b",
      "metadata": {
        "colab": {
          "base_uri": "https://localhost:8080/"
        },
        "id": "f124908b",
        "outputId": "79e363b3-36b2-4e5c-81f7-5dd1f36a71e1"
      },
      "outputs": [
        {
          "output_type": "stream",
          "name": "stdout",
          "text": [
            "Dados já foram carregados.\n"
          ]
        }
      ],
      "source": [
        "# Função para baixar o arquivo do site a ser analisado\n",
        "url_arq = 'https://dados.fortaleza.ce.gov.br/dataset/c45e4366-4ba7-4c6c-8d46-ce1a64f61f90/resource/b6a36cbe-9454-4103-87c6-d4f1162ede8d/download/dados_abertos_ouvidoria_2021.csv'\n",
        "\n",
        "def obter_arq(url, end):\n",
        "\n",
        "# A função verifica se já há um arquivo no diretório com o mesmo nome para que\n",
        "# não baixe toda vez que for rodado, caso contrário, ele baixa novamente.\n",
        "    if os.path.isfile('mani_ouv_fortal_2021.csv'): \n",
        "        print('Dados já foram carregados.')\n",
        "    else:\n",
        "        res = requests.get(url)\n",
        "        if res.status_code == requests.codes.OK:\n",
        "            with open(end, 'wb') as arquivo:\n",
        "                arquivo.write(res.content)\n",
        "            print(f'Arquivo baixado em {end}')    \n",
        "        else:\n",
        "            res.raise_for_status()\n",
        "\n",
        "if __name__ == '__main__':\n",
        "    obter_arq(url_arq, 'mani_ouv_fortal_2021.csv')\n"
      ]
    },
    {
      "cell_type": "code",
      "execution_count": 3,
      "id": "85779305",
      "metadata": {
        "colab": {
          "base_uri": "https://localhost:8080/",
          "height": 461
        },
        "id": "85779305",
        "outputId": "796f1153-763a-416d-f213-cb1820ab6fdf"
      },
      "outputs": [
        {
          "output_type": "execute_result",
          "data": {
            "text/plain": [
              "   manifestacao        data_abertura        data_resposta  \\\n",
              "0          1808  04/01/2021 04:28:39  14/04/2021 07:53:28   \n",
              "1          1809  04/01/2021 08:24:46  22/09/2021 16:15:40   \n",
              "2          1810  04/01/2021 08:30:14  04/01/2021 12:20:43   \n",
              "3          1811  04/01/2021 08:32:41  04/01/2021 08:33:43   \n",
              "4          1812  04/01/2021 09:17:30  02/06/2021 11:49:55   \n",
              "\n",
              "   periodo_atendimento_em_dias anonimo          tipo_manifestacao orgao_sigla  \\\n",
              "0                        100.0     Não                 Reclamação       SEFIN   \n",
              "1                        261.0     Não                 Reclamação      SER VI   \n",
              "2                          0.0     Sim  Solicitação de informação      AGEFIS   \n",
              "3                          0.0     Sim  Solicitação de informação      AGEFIS   \n",
              "4                        149.0     Sim                 Reclamação       SER I   \n",
              "\n",
              "                             orgao_nome prioridade meio_de_atendimento  \\\n",
              "0     SECRETARIA MUNICIPAL DAS FINANÇAS      Baixa            Internet   \n",
              "1                SECRETARIA REGIONAL VI       Alta          Presencial   \n",
              "2  AGÊNCIA DE FISCALIZAÇÃO DE FORTALEZA      Média            Telefone   \n",
              "3  AGÊNCIA DE FISCALIZAÇÃO DE FORTALEZA      Média            Telefone   \n",
              "4                SECRETARIA  REGIONAL I      Média               Email   \n",
              "\n",
              "            bairro     regional                 assuntos     sub_assuntos  \\\n",
              "0              NaN          NaN      ISS Pessoa Jurídica              NaN   \n",
              "1          BARROSO  Regional IX       Esgoto Clandestino              NaN   \n",
              "2  GRANJA PORTUGAL   Regional V             Fiscalização              NaN   \n",
              "3              NaN          NaN  Informações/Atendimento  Teleatendimento   \n",
              "4              NaN          NaN  Informações/Atendimento              NaN   \n",
              "\n",
              "  status_manifestacao prazo_legal  dias_em_atraso    situacao_manifestacoes  \\\n",
              "0       Em Finalizada  15/02/2021               0  Em Finalizado com Atraso   \n",
              "1       Em Finalizada  15/02/2021               0  Em Finalizado com Atraso   \n",
              "2       Em Finalizada  15/02/2021               0  Em Finalizado sem Atraso   \n",
              "3       Em Finalizada  15/02/2021               0  Em Finalizado sem Atraso   \n",
              "4       Em Finalizada  15/02/2021               0  Em Finalizado com Atraso   \n",
              "\n",
              "  compete_poder_municipal  \n",
              "0                     Não  \n",
              "1                     Não  \n",
              "2                     Não  \n",
              "3                     Não  \n",
              "4                     Não  "
            ],
            "text/html": [
              "\n",
              "  <div id=\"df-bd19c492-ee55-4948-af0d-dac287a1734b\">\n",
              "    <div class=\"colab-df-container\">\n",
              "      <div>\n",
              "<style scoped>\n",
              "    .dataframe tbody tr th:only-of-type {\n",
              "        vertical-align: middle;\n",
              "    }\n",
              "\n",
              "    .dataframe tbody tr th {\n",
              "        vertical-align: top;\n",
              "    }\n",
              "\n",
              "    .dataframe thead th {\n",
              "        text-align: right;\n",
              "    }\n",
              "</style>\n",
              "<table border=\"1\" class=\"dataframe\">\n",
              "  <thead>\n",
              "    <tr style=\"text-align: right;\">\n",
              "      <th></th>\n",
              "      <th>manifestacao</th>\n",
              "      <th>data_abertura</th>\n",
              "      <th>data_resposta</th>\n",
              "      <th>periodo_atendimento_em_dias</th>\n",
              "      <th>anonimo</th>\n",
              "      <th>tipo_manifestacao</th>\n",
              "      <th>orgao_sigla</th>\n",
              "      <th>orgao_nome</th>\n",
              "      <th>prioridade</th>\n",
              "      <th>meio_de_atendimento</th>\n",
              "      <th>bairro</th>\n",
              "      <th>regional</th>\n",
              "      <th>assuntos</th>\n",
              "      <th>sub_assuntos</th>\n",
              "      <th>status_manifestacao</th>\n",
              "      <th>prazo_legal</th>\n",
              "      <th>dias_em_atraso</th>\n",
              "      <th>situacao_manifestacoes</th>\n",
              "      <th>compete_poder_municipal</th>\n",
              "    </tr>\n",
              "  </thead>\n",
              "  <tbody>\n",
              "    <tr>\n",
              "      <th>0</th>\n",
              "      <td>1808</td>\n",
              "      <td>04/01/2021 04:28:39</td>\n",
              "      <td>14/04/2021 07:53:28</td>\n",
              "      <td>100.0</td>\n",
              "      <td>Não</td>\n",
              "      <td>Reclamação</td>\n",
              "      <td>SEFIN</td>\n",
              "      <td>SECRETARIA MUNICIPAL DAS FINANÇAS</td>\n",
              "      <td>Baixa</td>\n",
              "      <td>Internet</td>\n",
              "      <td>NaN</td>\n",
              "      <td>NaN</td>\n",
              "      <td>ISS Pessoa Jurídica</td>\n",
              "      <td>NaN</td>\n",
              "      <td>Em Finalizada</td>\n",
              "      <td>15/02/2021</td>\n",
              "      <td>0</td>\n",
              "      <td>Em Finalizado com Atraso</td>\n",
              "      <td>Não</td>\n",
              "    </tr>\n",
              "    <tr>\n",
              "      <th>1</th>\n",
              "      <td>1809</td>\n",
              "      <td>04/01/2021 08:24:46</td>\n",
              "      <td>22/09/2021 16:15:40</td>\n",
              "      <td>261.0</td>\n",
              "      <td>Não</td>\n",
              "      <td>Reclamação</td>\n",
              "      <td>SER VI</td>\n",
              "      <td>SECRETARIA REGIONAL VI</td>\n",
              "      <td>Alta</td>\n",
              "      <td>Presencial</td>\n",
              "      <td>BARROSO</td>\n",
              "      <td>Regional IX</td>\n",
              "      <td>Esgoto Clandestino</td>\n",
              "      <td>NaN</td>\n",
              "      <td>Em Finalizada</td>\n",
              "      <td>15/02/2021</td>\n",
              "      <td>0</td>\n",
              "      <td>Em Finalizado com Atraso</td>\n",
              "      <td>Não</td>\n",
              "    </tr>\n",
              "    <tr>\n",
              "      <th>2</th>\n",
              "      <td>1810</td>\n",
              "      <td>04/01/2021 08:30:14</td>\n",
              "      <td>04/01/2021 12:20:43</td>\n",
              "      <td>0.0</td>\n",
              "      <td>Sim</td>\n",
              "      <td>Solicitação de informação</td>\n",
              "      <td>AGEFIS</td>\n",
              "      <td>AGÊNCIA DE FISCALIZAÇÃO DE FORTALEZA</td>\n",
              "      <td>Média</td>\n",
              "      <td>Telefone</td>\n",
              "      <td>GRANJA PORTUGAL</td>\n",
              "      <td>Regional V</td>\n",
              "      <td>Fiscalização</td>\n",
              "      <td>NaN</td>\n",
              "      <td>Em Finalizada</td>\n",
              "      <td>15/02/2021</td>\n",
              "      <td>0</td>\n",
              "      <td>Em Finalizado sem Atraso</td>\n",
              "      <td>Não</td>\n",
              "    </tr>\n",
              "    <tr>\n",
              "      <th>3</th>\n",
              "      <td>1811</td>\n",
              "      <td>04/01/2021 08:32:41</td>\n",
              "      <td>04/01/2021 08:33:43</td>\n",
              "      <td>0.0</td>\n",
              "      <td>Sim</td>\n",
              "      <td>Solicitação de informação</td>\n",
              "      <td>AGEFIS</td>\n",
              "      <td>AGÊNCIA DE FISCALIZAÇÃO DE FORTALEZA</td>\n",
              "      <td>Média</td>\n",
              "      <td>Telefone</td>\n",
              "      <td>NaN</td>\n",
              "      <td>NaN</td>\n",
              "      <td>Informações/Atendimento</td>\n",
              "      <td>Teleatendimento</td>\n",
              "      <td>Em Finalizada</td>\n",
              "      <td>15/02/2021</td>\n",
              "      <td>0</td>\n",
              "      <td>Em Finalizado sem Atraso</td>\n",
              "      <td>Não</td>\n",
              "    </tr>\n",
              "    <tr>\n",
              "      <th>4</th>\n",
              "      <td>1812</td>\n",
              "      <td>04/01/2021 09:17:30</td>\n",
              "      <td>02/06/2021 11:49:55</td>\n",
              "      <td>149.0</td>\n",
              "      <td>Sim</td>\n",
              "      <td>Reclamação</td>\n",
              "      <td>SER I</td>\n",
              "      <td>SECRETARIA  REGIONAL I</td>\n",
              "      <td>Média</td>\n",
              "      <td>Email</td>\n",
              "      <td>NaN</td>\n",
              "      <td>NaN</td>\n",
              "      <td>Informações/Atendimento</td>\n",
              "      <td>NaN</td>\n",
              "      <td>Em Finalizada</td>\n",
              "      <td>15/02/2021</td>\n",
              "      <td>0</td>\n",
              "      <td>Em Finalizado com Atraso</td>\n",
              "      <td>Não</td>\n",
              "    </tr>\n",
              "  </tbody>\n",
              "</table>\n",
              "</div>\n",
              "      <button class=\"colab-df-convert\" onclick=\"convertToInteractive('df-bd19c492-ee55-4948-af0d-dac287a1734b')\"\n",
              "              title=\"Convert this dataframe to an interactive table.\"\n",
              "              style=\"display:none;\">\n",
              "        \n",
              "  <svg xmlns=\"http://www.w3.org/2000/svg\" height=\"24px\"viewBox=\"0 0 24 24\"\n",
              "       width=\"24px\">\n",
              "    <path d=\"M0 0h24v24H0V0z\" fill=\"none\"/>\n",
              "    <path d=\"M18.56 5.44l.94 2.06.94-2.06 2.06-.94-2.06-.94-.94-2.06-.94 2.06-2.06.94zm-11 1L8.5 8.5l.94-2.06 2.06-.94-2.06-.94L8.5 2.5l-.94 2.06-2.06.94zm10 10l.94 2.06.94-2.06 2.06-.94-2.06-.94-.94-2.06-.94 2.06-2.06.94z\"/><path d=\"M17.41 7.96l-1.37-1.37c-.4-.4-.92-.59-1.43-.59-.52 0-1.04.2-1.43.59L10.3 9.45l-7.72 7.72c-.78.78-.78 2.05 0 2.83L4 21.41c.39.39.9.59 1.41.59.51 0 1.02-.2 1.41-.59l7.78-7.78 2.81-2.81c.8-.78.8-2.07 0-2.86zM5.41 20L4 18.59l7.72-7.72 1.47 1.35L5.41 20z\"/>\n",
              "  </svg>\n",
              "      </button>\n",
              "      \n",
              "  <style>\n",
              "    .colab-df-container {\n",
              "      display:flex;\n",
              "      flex-wrap:wrap;\n",
              "      gap: 12px;\n",
              "    }\n",
              "\n",
              "    .colab-df-convert {\n",
              "      background-color: #E8F0FE;\n",
              "      border: none;\n",
              "      border-radius: 50%;\n",
              "      cursor: pointer;\n",
              "      display: none;\n",
              "      fill: #1967D2;\n",
              "      height: 32px;\n",
              "      padding: 0 0 0 0;\n",
              "      width: 32px;\n",
              "    }\n",
              "\n",
              "    .colab-df-convert:hover {\n",
              "      background-color: #E2EBFA;\n",
              "      box-shadow: 0px 1px 2px rgba(60, 64, 67, 0.3), 0px 1px 3px 1px rgba(60, 64, 67, 0.15);\n",
              "      fill: #174EA6;\n",
              "    }\n",
              "\n",
              "    [theme=dark] .colab-df-convert {\n",
              "      background-color: #3B4455;\n",
              "      fill: #D2E3FC;\n",
              "    }\n",
              "\n",
              "    [theme=dark] .colab-df-convert:hover {\n",
              "      background-color: #434B5C;\n",
              "      box-shadow: 0px 1px 3px 1px rgba(0, 0, 0, 0.15);\n",
              "      filter: drop-shadow(0px 1px 2px rgba(0, 0, 0, 0.3));\n",
              "      fill: #FFFFFF;\n",
              "    }\n",
              "  </style>\n",
              "\n",
              "      <script>\n",
              "        const buttonEl =\n",
              "          document.querySelector('#df-bd19c492-ee55-4948-af0d-dac287a1734b button.colab-df-convert');\n",
              "        buttonEl.style.display =\n",
              "          google.colab.kernel.accessAllowed ? 'block' : 'none';\n",
              "\n",
              "        async function convertToInteractive(key) {\n",
              "          const element = document.querySelector('#df-bd19c492-ee55-4948-af0d-dac287a1734b');\n",
              "          const dataTable =\n",
              "            await google.colab.kernel.invokeFunction('convertToInteractive',\n",
              "                                                     [key], {});\n",
              "          if (!dataTable) return;\n",
              "\n",
              "          const docLinkHtml = 'Like what you see? Visit the ' +\n",
              "            '<a target=\"_blank\" href=https://colab.research.google.com/notebooks/data_table.ipynb>data table notebook</a>'\n",
              "            + ' to learn more about interactive tables.';\n",
              "          element.innerHTML = '';\n",
              "          dataTable['output_type'] = 'display_data';\n",
              "          await google.colab.output.renderOutput(dataTable, element);\n",
              "          const docLink = document.createElement('div');\n",
              "          docLink.innerHTML = docLinkHtml;\n",
              "          element.appendChild(docLink);\n",
              "        }\n",
              "      </script>\n",
              "    </div>\n",
              "  </div>\n",
              "  "
            ]
          },
          "metadata": {},
          "execution_count": 3
        }
      ],
      "source": [
        "# Utilizamos o método .head() e o .info para termos uma visão geral dos dados\n",
        "data = pd.read_csv('mani_ouv_fortal_2021.csv')\n",
        "data.head()"
      ]
    },
    {
      "cell_type": "code",
      "execution_count": 4,
      "id": "1deb4dd1",
      "metadata": {
        "colab": {
          "base_uri": "https://localhost:8080/"
        },
        "id": "1deb4dd1",
        "outputId": "6812f61f-aac1-4dcc-8664-16b03d7472fd"
      },
      "outputs": [
        {
          "output_type": "stream",
          "name": "stdout",
          "text": [
            "<class 'pandas.core.frame.DataFrame'>\n",
            "RangeIndex: 28357 entries, 0 to 28356\n",
            "Data columns (total 19 columns):\n",
            " #   Column                       Non-Null Count  Dtype  \n",
            "---  ------                       --------------  -----  \n",
            " 0   manifestacao                 28357 non-null  int64  \n",
            " 1   data_abertura                28357 non-null  object \n",
            " 2   data_resposta                27867 non-null  object \n",
            " 3   periodo_atendimento_em_dias  28357 non-null  float64\n",
            " 4   anonimo                      28357 non-null  object \n",
            " 5   tipo_manifestacao            28357 non-null  object \n",
            " 6   orgao_sigla                  28357 non-null  object \n",
            " 7   orgao_nome                   28357 non-null  object \n",
            " 8   prioridade                   28357 non-null  object \n",
            " 9   meio_de_atendimento          28357 non-null  object \n",
            " 10  bairro                       13781 non-null  object \n",
            " 11  regional                     13691 non-null  object \n",
            " 12  assuntos                     28335 non-null  object \n",
            " 13  sub_assuntos                 8082 non-null   object \n",
            " 14  status_manifestacao          28357 non-null  object \n",
            " 15  prazo_legal                  28357 non-null  object \n",
            " 16  dias_em_atraso               28357 non-null  int64  \n",
            " 17  situacao_manifestacoes       28357 non-null  object \n",
            " 18  compete_poder_municipal      28336 non-null  object \n",
            "dtypes: float64(1), int64(2), object(16)\n",
            "memory usage: 4.1+ MB\n"
          ]
        }
      ],
      "source": [
        "data.info()"
      ]
    },
    {
      "cell_type": "markdown",
      "id": "70d5f4a2",
      "metadata": {
        "id": "70d5f4a2"
      },
      "source": [
        "## Perguntas a serem feitas\n",
        "\n",
        "Analisando as características(features) demonstradas no método .info() percebemos algumas abordagens que podemos realizar:<br>\n",
        "1 - Qual mês houve mais ocorrências?<br>\n",
        "2 - Qual orgão é mais demandado?<br>\n",
        "3 - Como os cidadãos e cidadãs demandam esses atendimentos?<br>\n",
        "4 - Quão eficiente é a reposta para com o atendimento?"
      ]
    },
    {
      "cell_type": "code",
      "source": [
        "# Criando um dataframe a partir dos dados originais para termos como referência nas análises.\n",
        "df = data.copy()"
      ],
      "metadata": {
        "id": "zA0wvUkvu3iP"
      },
      "id": "zA0wvUkvu3iP",
      "execution_count": 5,
      "outputs": []
    },
    {
      "cell_type": "markdown",
      "source": [
        "1 - QUAL MÊS HOUVE MAIS OCORRÊNCIAS?"
      ],
      "metadata": {
        "id": "o_LqCzlMqIuq"
      },
      "id": "o_LqCzlMqIuq"
    },
    {
      "cell_type": "code",
      "execution_count": 6,
      "id": "b152fb0c",
      "metadata": {
        "id": "b152fb0c"
      },
      "outputs": [],
      "source": [
        "# Dataframe específico para se trabalhar a resposta em questão: lembrando que iremos apenas contar os números de ocorrência por mês.\n",
        "# Nesta questão em específico, iremos apenas precisar das datas das ocorrências e de alguma feature que as referencie, no caso, 'manifestacao'.\n",
        "# Por fim eliminamos as linhas sem valores.\n",
        "df_ocorrencia = df.copy()[['manifestacao', 'data_abertura']].dropna()\n",
        "\n",
        "# Cria-se uma nova coluna apenas com mês e ano derivada da coluna 'data_abertura' transformada em datetime e filtrada por mês.\n",
        "df_ocorrencia['data_mes'] = pd.to_datetime(df['data_abertura']).dt.to_period('M')\n",
        "# Definimos a nova coluna como index e dropamos a coluna que não precisamos mais: 'data_abertura'.\n",
        "df_ocorrencia = df_ocorrencia.set_index('data_mes')\n",
        "df_ocorrencia = df_ocorrencia.drop('data_abertura', 1)\n",
        "\n",
        "# Utilizamos o método .resample(), que é uma espécie de .groupby() só que para df's com data como index, com o objetivo de somar o número\n",
        "# de ocorrências por mês.\n",
        "df_ocorrencia = df_ocorrencia.resample('M')['manifestacao'].count()"
      ]
    },
    {
      "cell_type": "code",
      "execution_count": 7,
      "id": "674d04da",
      "metadata": {
        "colab": {
          "base_uri": "https://localhost:8080/",
          "height": 378
        },
        "id": "674d04da",
        "outputId": "790ee7dc-dae6-4bd7-92bb-b591905fda51"
      },
      "outputs": [
        {
          "output_type": "execute_result",
          "data": {
            "text/plain": [
              "<matplotlib.axes._subplots.AxesSubplot at 0x7fdbf17b1f90>"
            ]
          },
          "metadata": {},
          "execution_count": 7
        },
        {
          "output_type": "display_data",
          "data": {
            "text/plain": [
              "<Figure size 1440x360 with 1 Axes>"
            ],
            "image/png": "[encoded data removed]"
          },
          "metadata": {
            "needs_background": "light"
          }
        }
      ],
      "source": [
        "# Plotagem do resultado\n",
        "df_ocorrencia.plot(kind='line',\n",
        "                   figsize = (20, 5),\n",
        "                   color=['green'],\n",
        "                   grid=True,\n",
        "                   title='Número de ocorrência por meses em 2021',\n",
        "                   xlabel='Meses',\n",
        "                   ylabel='Número de ocorrências')"
      ]
    },
    {
      "cell_type": "markdown",
      "source": [
        "Através da visualiação do gráfico onde o número de ocorrências foi distribuído pelos meses durante o ano de 2021, podemos perceber que outubro foi o mês em que mais houve ocorrências na Ouvidoria Digital de Fortaleza."
      ],
      "metadata": {
        "id": "lV75HgBM4pfc"
      },
      "id": "lV75HgBM4pfc"
    },
    {
      "cell_type": "markdown",
      "source": [
        "2 - QUAL ÓRGÃO É O MAIS DEMANDADO?<br><br>\n",
        "3 - COMO OS CIDADÃOS E CIDADÃS DEMANDAS ESSES ATENDIMENTOS?"
      ],
      "metadata": {
        "id": "t7W1zOkh5TtB"
      },
      "id": "t7W1zOkh5TtB"
    },
    {
      "cell_type": "markdown",
      "source": [
        "As questões 2 e 3 são bastante semelhantes, de modo que podemos criar um dataframe único para fazer essas análises. É necessário apenas que escolhamos as *features* correspondentes e relevantes."
      ],
      "metadata": {
        "id": "a5yvLOAV52FL"
      },
      "id": "a5yvLOAV52FL"
    },
    {
      "cell_type": "code",
      "source": [
        "# Vamos criar um dataframe mais geral com o objetivo de englobar as 3 questões.\n",
        "# 'orgao_nome' para a questão 2, 'assuntos' para questão 3 e  'meio_de_atendimento' para questão 4.\n",
        "df_geral = df.copy()[['manifestacao', 'orgao_nome', 'meio_de_atendimento']]\n",
        "df_geral.head()"
      ],
      "metadata": {
        "colab": {
          "base_uri": "https://localhost:8080/",
          "height": 206
        },
        "id": "br5bcs9y5y2v",
        "outputId": "57bdf271-5681-4631-cef9-c32f92ab390e"
      },
      "id": "br5bcs9y5y2v",
      "execution_count": 8,
      "outputs": [
        {
          "output_type": "execute_result",
          "data": {
            "text/plain": [
              "   manifestacao                            orgao_nome meio_de_atendimento\n",
              "0          1808     SECRETARIA MUNICIPAL DAS FINANÇAS            Internet\n",
              "1          1809                SECRETARIA REGIONAL VI          Presencial\n",
              "2          1810  AGÊNCIA DE FISCALIZAÇÃO DE FORTALEZA            Telefone\n",
              "3          1811  AGÊNCIA DE FISCALIZAÇÃO DE FORTALEZA            Telefone\n",
              "4          1812                SECRETARIA  REGIONAL I               Email"
            ],
            "text/html": [
              "\n",
              "  <div id=\"df-ec545c63-ae40-40bc-85e5-f4f9ebc15d35\">\n",
              "    <div class=\"colab-df-container\">\n",
              "      <div>\n",
              "<style scoped>\n",
              "    .dataframe tbody tr th:only-of-type {\n",
              "        vertical-align: middle;\n",
              "    }\n",
              "\n",
              "    .dataframe tbody tr th {\n",
              "        vertical-align: top;\n",
              "    }\n",
              "\n",
              "    .dataframe thead th {\n",
              "        text-align: right;\n",
              "    }\n",
              "</style>\n",
              "<table border=\"1\" class=\"dataframe\">\n",
              "  <thead>\n",
              "    <tr style=\"text-align: right;\">\n",
              "      <th></th>\n",
              "      <th>manifestacao</th>\n",
              "      <th>orgao_nome</th>\n",
              "      <th>meio_de_atendimento</th>\n",
              "    </tr>\n",
              "  </thead>\n",
              "  <tbody>\n",
              "    <tr>\n",
              "      <th>0</th>\n",
              "      <td>1808</td>\n",
              "      <td>SECRETARIA MUNICIPAL DAS FINANÇAS</td>\n",
              "      <td>Internet</td>\n",
              "    </tr>\n",
              "    <tr>\n",
              "      <th>1</th>\n",
              "      <td>1809</td>\n",
              "      <td>SECRETARIA REGIONAL VI</td>\n",
              "      <td>Presencial</td>\n",
              "    </tr>\n",
              "    <tr>\n",
              "      <th>2</th>\n",
              "      <td>1810</td>\n",
              "      <td>AGÊNCIA DE FISCALIZAÇÃO DE FORTALEZA</td>\n",
              "      <td>Telefone</td>\n",
              "    </tr>\n",
              "    <tr>\n",
              "      <th>3</th>\n",
              "      <td>1811</td>\n",
              "      <td>AGÊNCIA DE FISCALIZAÇÃO DE FORTALEZA</td>\n",
              "      <td>Telefone</td>\n",
              "    </tr>\n",
              "    <tr>\n",
              "      <th>4</th>\n",
              "      <td>1812</td>\n",
              "      <td>SECRETARIA  REGIONAL I</td>\n",
              "      <td>Email</td>\n",
              "    </tr>\n",
              "  </tbody>\n",
              "</table>\n",
              "</div>\n",
              "      <button class=\"colab-df-convert\" onclick=\"convertToInteractive('df-ec545c63-ae40-40bc-85e5-f4f9ebc15d35')\"\n",
              "              title=\"Convert this dataframe to an interactive table.\"\n",
              "              style=\"display:none;\">\n",
              "        \n",
              "  <svg xmlns=\"http://www.w3.org/2000/svg\" height=\"24px\"viewBox=\"0 0 24 24\"\n",
              "       width=\"24px\">\n",
              "    <path d=\"M0 0h24v24H0V0z\" fill=\"none\"/>\n",
              "    <path d=\"M18.56 5.44l.94 2.06.94-2.06 2.06-.94-2.06-.94-.94-2.06-.94 2.06-2.06.94zm-11 1L8.5 8.5l.94-2.06 2.06-.94-2.06-.94L8.5 2.5l-.94 2.06-2.06.94zm10 10l.94 2.06.94-2.06 2.06-.94-2.06-.94-.94-2.06-.94 2.06-2.06.94z\"/><path d=\"M17.41 7.96l-1.37-1.37c-.4-.4-.92-.59-1.43-.59-.52 0-1.04.2-1.43.59L10.3 9.45l-7.72 7.72c-.78.78-.78 2.05 0 2.83L4 21.41c.39.39.9.59 1.41.59.51 0 1.02-.2 1.41-.59l7.78-7.78 2.81-2.81c.8-.78.8-2.07 0-2.86zM5.41 20L4 18.59l7.72-7.72 1.47 1.35L5.41 20z\"/>\n",
              "  </svg>\n",
              "      </button>\n",
              "      \n",
              "  <style>\n",
              "    .colab-df-container {\n",
              "      display:flex;\n",
              "      flex-wrap:wrap;\n",
              "      gap: 12px;\n",
              "    }\n",
              "\n",
              "    .colab-df-convert {\n",
              "      background-color: #E8F0FE;\n",
              "      border: none;\n",
              "      border-radius: 50%;\n",
              "      cursor: pointer;\n",
              "      display: none;\n",
              "      fill: #1967D2;\n",
              "      height: 32px;\n",
              "      padding: 0 0 0 0;\n",
              "      width: 32px;\n",
              "    }\n",
              "\n",
              "    .colab-df-convert:hover {\n",
              "      background-color: #E2EBFA;\n",
              "      box-shadow: 0px 1px 2px rgba(60, 64, 67, 0.3), 0px 1px 3px 1px rgba(60, 64, 67, 0.15);\n",
              "      fill: #174EA6;\n",
              "    }\n",
              "\n",
              "    [theme=dark] .colab-df-convert {\n",
              "      background-color: #3B4455;\n",
              "      fill: #D2E3FC;\n",
              "    }\n",
              "\n",
              "    [theme=dark] .colab-df-convert:hover {\n",
              "      background-color: #434B5C;\n",
              "      box-shadow: 0px 1px 3px 1px rgba(0, 0, 0, 0.15);\n",
              "      filter: drop-shadow(0px 1px 2px rgba(0, 0, 0, 0.3));\n",
              "      fill: #FFFFFF;\n",
              "    }\n",
              "  </style>\n",
              "\n",
              "      <script>\n",
              "        const buttonEl =\n",
              "          document.querySelector('#df-ec545c63-ae40-40bc-85e5-f4f9ebc15d35 button.colab-df-convert');\n",
              "        buttonEl.style.display =\n",
              "          google.colab.kernel.accessAllowed ? 'block' : 'none';\n",
              "\n",
              "        async function convertToInteractive(key) {\n",
              "          const element = document.querySelector('#df-ec545c63-ae40-40bc-85e5-f4f9ebc15d35');\n",
              "          const dataTable =\n",
              "            await google.colab.kernel.invokeFunction('convertToInteractive',\n",
              "                                                     [key], {});\n",
              "          if (!dataTable) return;\n",
              "\n",
              "          const docLinkHtml = 'Like what you see? Visit the ' +\n",
              "            '<a target=\"_blank\" href=https://colab.research.google.com/notebooks/data_table.ipynb>data table notebook</a>'\n",
              "            + ' to learn more about interactive tables.';\n",
              "          element.innerHTML = '';\n",
              "          dataTable['output_type'] = 'display_data';\n",
              "          await google.colab.output.renderOutput(dataTable, element);\n",
              "          const docLink = document.createElement('div');\n",
              "          docLink.innerHTML = docLinkHtml;\n",
              "          element.appendChild(docLink);\n",
              "        }\n",
              "      </script>\n",
              "    </div>\n",
              "  </div>\n",
              "  "
            ]
          },
          "metadata": {},
          "execution_count": 8
        }
      ]
    },
    {
      "cell_type": "markdown",
      "source": [
        "Primeiro vamos contar o número de valores únicos que cada coluna possui.<br>\n",
        "Isso irá nos ajudar a montar as plotagens, tendo em vista que pretendemos raquear os maiores valores."
      ],
      "metadata": {
        "id": "GbhBDWNAHXKT"
      },
      "id": "GbhBDWNAHXKT"
    },
    {
      "cell_type": "code",
      "source": [
        "print(f'Número de órgãos no orgao_nome: {np.count_nonzero(df_geral.orgao_nome.unique())}')\n",
        "print(f'Número de meio de atendimento no meio_de_atendimento: {np.count_nonzero(df_geral.meio_de_atendimento.unique())}')"
      ],
      "metadata": {
        "colab": {
          "base_uri": "https://localhost:8080/"
        },
        "id": "QcM3zmlJAFgG",
        "outputId": "f85d941a-2da4-4fa6-8c2e-21d0541bdcf4"
      },
      "id": "QcM3zmlJAFgG",
      "execution_count": 9,
      "outputs": [
        {
          "output_type": "stream",
          "name": "stdout",
          "text": [
            "Número de órgãos no orgao_nome: 52\n",
            "Número de meio de atendimento no meio_de_atendimento: 9\n"
          ]
        }
      ]
    },
    {
      "cell_type": "markdown",
      "source": [
        "Podemos verificar que a coluna orgao_nome possui 52 órgãos diferentes.<br> É de boa prática, então, que filtremos os órgãos com maiores valores."
      ],
      "metadata": {
        "id": "h5bITXNXEcmU"
      },
      "id": "h5bITXNXEcmU"
    },
    {
      "cell_type": "markdown",
      "source": [
        "ÓRGÃOS"
      ],
      "metadata": {
        "id": "6nAGjHRULubR"
      },
      "id": "6nAGjHRULubR"
    },
    {
      "cell_type": "code",
      "source": [
        "# Verificando a ocorrência de um valor em determinada coluna com .value_counts().\n",
        "# Iremos pegar apenas os órgãos e meios de atendimento que contém os 5 maiores números de ocorrência.\n",
        "df_geral.orgao_nome.value_counts()[:5].plot(kind='barh',\n",
        "                                            figsize = (15, 5),\n",
        "                                            color=['#dda0dd', '#580f41'],\n",
        "                                            title='Número de ocorrência por ógãos em 2021',\n",
        "                                            xlabel='Órgãos',\n",
        "                                            ylabel='Número de ocorrências')"
      ],
      "metadata": {
        "colab": {
          "base_uri": "https://localhost:8080/",
          "height": 353
        },
        "id": "4aJn-YyEAz_5",
        "outputId": "0359411a-469a-4317-908e-51aeced8d72b"
      },
      "id": "4aJn-YyEAz_5",
      "execution_count": 10,
      "outputs": [
        {
          "output_type": "execute_result",
          "data": {
            "text/plain": [
              "<matplotlib.axes._subplots.AxesSubplot at 0x7fdbf16ce0d0>"
            ]
          },
          "metadata": {},
          "execution_count": 10
        },
        {
          "output_type": "display_data",
          "data": {
            "text/plain": [
              "<Figure size 1080x360 with 1 Axes>"
            ],
            "image/png": "[encoded data removed]"
          },
          "metadata": {
            "needs_background": "light"
          }
        }
      ]
    },
    {
      "cell_type": "markdown",
      "source": [
        "MEIOS DE ATENDIMENTO"
      ],
      "metadata": {
        "id": "dioQBcxGLxMa"
      },
      "id": "dioQBcxGLxMa"
    },
    {
      "cell_type": "code",
      "source": [
        "df_geral.meio_de_atendimento.value_counts()[:5].plot(kind='barh',\n",
        "                                            figsize = (20, 5),\n",
        "                                            color=['#add8e6', '#069af3'],\n",
        "                                            title='Número de ocorrência por meios de atendimento em 2021',\n",
        "                                            xlabel='Meios de atendimento',\n",
        "                                            ylabel='Número de ocorrências')"
      ],
      "metadata": {
        "colab": {
          "base_uri": "https://localhost:8080/",
          "height": 353
        },
        "id": "ZFSwTOL4Lzru",
        "outputId": "2bb6cb55-7b89-44fd-c371-d52445c6b6db"
      },
      "id": "ZFSwTOL4Lzru",
      "execution_count": 11,
      "outputs": [
        {
          "output_type": "execute_result",
          "data": {
            "text/plain": [
              "<matplotlib.axes._subplots.AxesSubplot at 0x7fdbf11c2a50>"
            ]
          },
          "metadata": {},
          "execution_count": 11
        },
        {
          "output_type": "display_data",
          "data": {
            "text/plain": [
              "<Figure size 1440x360 with 1 Axes>"
            ],
            "image/png": "[encoded data removed]"
          },
          "metadata": {
            "needs_background": "light"
          }
        }
      ]
    },
    {
      "cell_type": "markdown",
      "source": [
        "Não há surpresa alguma que a Secretária de Saúde de Fortaleza seja o **orgão** mais ativado por meio da ouvidoria, já que, de acordo com o [IBGE](https://cidades.ibge.gov.br/brasil/ce/fortaleza/panorama), há 187 estabelecimentos municipais de saúde para abranger não apenas aprox. 2 milhões e 700 mil munícipes, como também moradores de outros municípios que têm a capital cearense como referência. A surpresa fica para a Secretaria de Educação, que apesar de possuir também uma enorme abrangência, não está entre o TOP 5.\n",
        "\n",
        "Tratando-se dos **meios de atendimento** utilizados, nosso ranking apenas confirma a tendência da internet se consolidar como líder. A ouvidoria municipal possui um [portal próprio](https://ouvidoria.cgm.fortaleza.ce.gov.br/portal), facilitando mais o acesso dos usuários, relegando ao quarto lugar a manifestação presencial de alguma queixa.\n"
      ],
      "metadata": {
        "id": "qyLfMvEtKh_s"
      },
      "id": "qyLfMvEtKh_s"
    },
    {
      "cell_type": "markdown",
      "source": [
        "4 - QUÃO EFICIENTE É A RESPOSTA PARA COM O ATENDIMENTO?"
      ],
      "metadata": {
        "id": "_mJniHJDRdxd"
      },
      "id": "_mJniHJDRdxd"
    },
    {
      "cell_type": "markdown",
      "source": [
        "Para a pŕoxima questão trataremos sobre o tempo em que as solicitações são atendidas e se os atrasos são relevantes."
      ],
      "metadata": {
        "id": "cWsxUFedRe1B"
      },
      "id": "cWsxUFedRe1B"
    },
    {
      "cell_type": "code",
      "source": [
        "# Criar um dataframe com a data de abertura da demanda, da resposta e do prazo legal para resposta.\n",
        "# Vamos utilizar o método .dropna() para apagar as linhas que cotenham alguma entrada nula, nivelando todo o dataframe.\n",
        "df_efi = df.copy()[['manifestacao', 'data_abertura', 'data_resposta', 'prazo_legal']].dropna()\n",
        "\n",
        "# Como iremos lidar com datas, vamos transformar as colunas de object para datetime. A coluna de data_abertura não será utilizada.\n",
        "# O parâmetro dayfirst garante que o formato da data ficará correta.\n",
        "df_efi['data_abertura'] = pd.to_datetime(df_efi['data_abertura'], dayfirst=True)\n",
        "df_efi['data_resposta'] = pd.to_datetime(df_efi['data_resposta'], dayfirst=True)\n",
        "df_efi['prazo_legal'] = pd.to_datetime(df_efi['prazo_legal'], dayfirst=True)"
      ],
      "metadata": {
        "id": "E204HwuWIA8S"
      },
      "id": "E204HwuWIA8S",
      "execution_count": 12,
      "outputs": []
    },
    {
      "cell_type": "code",
      "source": [
        "# Como a coluna 'prazo_legal', que serve como parâmetro para sabermos o limite da data de resposta, não tem horário, podemos retirar essa informação das demais.\n",
        "df_efi['data_abertura'] = df_efi['data_abertura'].dt.date\n",
        "df_efi['data_resposta'] = df_efi['data_resposta'].dt.date"
      ],
      "metadata": {
        "id": "uQVdiQhSRYRD"
      },
      "id": "uQVdiQhSRYRD",
      "execution_count": 13,
      "outputs": []
    },
    {
      "cell_type": "code",
      "source": [
        "# Com as colunas de datas devidamente formatadas, criaremos duas colunas: uma com o tempo de atraso, e outra apenas constando se atrasou ou não.\n",
        "# Lembrando de converter em datetime novamente para trabalhar com aritmética porque quando utilizamos o método dt.date anteriormente, ele converteu o tipo\n",
        "# para object(sring) novamente.\n",
        "df_efi['tempo_atraso'] = pd.to_datetime(df_efi['data_resposta']) - pd.to_datetime(df_efi['prazo_legal'])\n",
        "df_efi['em_atraso'] = (df_efi['tempo_atraso'] > '0 days').astype(int)"
      ],
      "metadata": {
        "id": "ScBU6EYpUE54"
      },
      "id": "ScBU6EYpUE54",
      "execution_count": 14,
      "outputs": []
    },
    {
      "cell_type": "code",
      "source": [
        "df_efi.head()"
      ],
      "metadata": {
        "colab": {
          "base_uri": "https://localhost:8080/",
          "height": 206
        },
        "id": "b2Lrxkb7XNZD",
        "outputId": "11c79018-ccb8-4a85-9988-2a8d4df62a38"
      },
      "id": "b2Lrxkb7XNZD",
      "execution_count": 15,
      "outputs": [
        {
          "output_type": "execute_result",
          "data": {
            "text/plain": [
              "   manifestacao data_abertura data_resposta prazo_legal tempo_atraso  \\\n",
              "0          1808    2021-01-04    2021-04-14  2021-02-15      58 days   \n",
              "1          1809    2021-01-04    2021-09-22  2021-02-15     219 days   \n",
              "2          1810    2021-01-04    2021-01-04  2021-02-15     -42 days   \n",
              "3          1811    2021-01-04    2021-01-04  2021-02-15     -42 days   \n",
              "4          1812    2021-01-04    2021-06-02  2021-02-15     107 days   \n",
              "\n",
              "   em_atraso  \n",
              "0          1  \n",
              "1          1  \n",
              "2          0  \n",
              "3          0  \n",
              "4          1  "
            ],
            "text/html": [
              "\n",
              "  <div id=\"df-b38e3640-759c-4f13-aa0e-aaff230f5e63\">\n",
              "    <div class=\"colab-df-container\">\n",
              "      <div>\n",
              "<style scoped>\n",
              "    .dataframe tbody tr th:only-of-type {\n",
              "        vertical-align: middle;\n",
              "    }\n",
              "\n",
              "    .dataframe tbody tr th {\n",
              "        vertical-align: top;\n",
              "    }\n",
              "\n",
              "    .dataframe thead th {\n",
              "        text-align: right;\n",
              "    }\n",
              "</style>\n",
              "<table border=\"1\" class=\"dataframe\">\n",
              "  <thead>\n",
              "    <tr style=\"text-align: right;\">\n",
              "      <th></th>\n",
              "      <th>manifestacao</th>\n",
              "      <th>data_abertura</th>\n",
              "      <th>data_resposta</th>\n",
              "      <th>prazo_legal</th>\n",
              "      <th>tempo_atraso</th>\n",
              "      <th>em_atraso</th>\n",
              "    </tr>\n",
              "  </thead>\n",
              "  <tbody>\n",
              "    <tr>\n",
              "      <th>0</th>\n",
              "      <td>1808</td>\n",
              "      <td>2021-01-04</td>\n",
              "      <td>2021-04-14</td>\n",
              "      <td>2021-02-15</td>\n",
              "      <td>58 days</td>\n",
              "      <td>1</td>\n",
              "    </tr>\n",
              "    <tr>\n",
              "      <th>1</th>\n",
              "      <td>1809</td>\n",
              "      <td>2021-01-04</td>\n",
              "      <td>2021-09-22</td>\n",
              "      <td>2021-02-15</td>\n",
              "      <td>219 days</td>\n",
              "      <td>1</td>\n",
              "    </tr>\n",
              "    <tr>\n",
              "      <th>2</th>\n",
              "      <td>1810</td>\n",
              "      <td>2021-01-04</td>\n",
              "      <td>2021-01-04</td>\n",
              "      <td>2021-02-15</td>\n",
              "      <td>-42 days</td>\n",
              "      <td>0</td>\n",
              "    </tr>\n",
              "    <tr>\n",
              "      <th>3</th>\n",
              "      <td>1811</td>\n",
              "      <td>2021-01-04</td>\n",
              "      <td>2021-01-04</td>\n",
              "      <td>2021-02-15</td>\n",
              "      <td>-42 days</td>\n",
              "      <td>0</td>\n",
              "    </tr>\n",
              "    <tr>\n",
              "      <th>4</th>\n",
              "      <td>1812</td>\n",
              "      <td>2021-01-04</td>\n",
              "      <td>2021-06-02</td>\n",
              "      <td>2021-02-15</td>\n",
              "      <td>107 days</td>\n",
              "      <td>1</td>\n",
              "    </tr>\n",
              "  </tbody>\n",
              "</table>\n",
              "</div>\n",
              "      <button class=\"colab-df-convert\" onclick=\"convertToInteractive('df-b38e3640-759c-4f13-aa0e-aaff230f5e63')\"\n",
              "              title=\"Convert this dataframe to an interactive table.\"\n",
              "              style=\"display:none;\">\n",
              "        \n",
              "  <svg xmlns=\"http://www.w3.org/2000/svg\" height=\"24px\"viewBox=\"0 0 24 24\"\n",
              "       width=\"24px\">\n",
              "    <path d=\"M0 0h24v24H0V0z\" fill=\"none\"/>\n",
              "    <path d=\"M18.56 5.44l.94 2.06.94-2.06 2.06-.94-2.06-.94-.94-2.06-.94 2.06-2.06.94zm-11 1L8.5 8.5l.94-2.06 2.06-.94-2.06-.94L8.5 2.5l-.94 2.06-2.06.94zm10 10l.94 2.06.94-2.06 2.06-.94-2.06-.94-.94-2.06-.94 2.06-2.06.94z\"/><path d=\"M17.41 7.96l-1.37-1.37c-.4-.4-.92-.59-1.43-.59-.52 0-1.04.2-1.43.59L10.3 9.45l-7.72 7.72c-.78.78-.78 2.05 0 2.83L4 21.41c.39.39.9.59 1.41.59.51 0 1.02-.2 1.41-.59l7.78-7.78 2.81-2.81c.8-.78.8-2.07 0-2.86zM5.41 20L4 18.59l7.72-7.72 1.47 1.35L5.41 20z\"/>\n",
              "  </svg>\n",
              "      </button>\n",
              "      \n",
              "  <style>\n",
              "    .colab-df-container {\n",
              "      display:flex;\n",
              "      flex-wrap:wrap;\n",
              "      gap: 12px;\n",
              "    }\n",
              "\n",
              "    .colab-df-convert {\n",
              "      background-color: #E8F0FE;\n",
              "      border: none;\n",
              "      border-radius: 50%;\n",
              "      cursor: pointer;\n",
              "      display: none;\n",
              "      fill: #1967D2;\n",
              "      height: 32px;\n",
              "      padding: 0 0 0 0;\n",
              "      width: 32px;\n",
              "    }\n",
              "\n",
              "    .colab-df-convert:hover {\n",
              "      background-color: #E2EBFA;\n",
              "      box-shadow: 0px 1px 2px rgba(60, 64, 67, 0.3), 0px 1px 3px 1px rgba(60, 64, 67, 0.15);\n",
              "      fill: #174EA6;\n",
              "    }\n",
              "\n",
              "    [theme=dark] .colab-df-convert {\n",
              "      background-color: #3B4455;\n",
              "      fill: #D2E3FC;\n",
              "    }\n",
              "\n",
              "    [theme=dark] .colab-df-convert:hover {\n",
              "      background-color: #434B5C;\n",
              "      box-shadow: 0px 1px 3px 1px rgba(0, 0, 0, 0.15);\n",
              "      filter: drop-shadow(0px 1px 2px rgba(0, 0, 0, 0.3));\n",
              "      fill: #FFFFFF;\n",
              "    }\n",
              "  </style>\n",
              "\n",
              "      <script>\n",
              "        const buttonEl =\n",
              "          document.querySelector('#df-b38e3640-759c-4f13-aa0e-aaff230f5e63 button.colab-df-convert');\n",
              "        buttonEl.style.display =\n",
              "          google.colab.kernel.accessAllowed ? 'block' : 'none';\n",
              "\n",
              "        async function convertToInteractive(key) {\n",
              "          const element = document.querySelector('#df-b38e3640-759c-4f13-aa0e-aaff230f5e63');\n",
              "          const dataTable =\n",
              "            await google.colab.kernel.invokeFunction('convertToInteractive',\n",
              "                                                     [key], {});\n",
              "          if (!dataTable) return;\n",
              "\n",
              "          const docLinkHtml = 'Like what you see? Visit the ' +\n",
              "            '<a target=\"_blank\" href=https://colab.research.google.com/notebooks/data_table.ipynb>data table notebook</a>'\n",
              "            + ' to learn more about interactive tables.';\n",
              "          element.innerHTML = '';\n",
              "          dataTable['output_type'] = 'display_data';\n",
              "          await google.colab.output.renderOutput(dataTable, element);\n",
              "          const docLink = document.createElement('div');\n",
              "          docLink.innerHTML = docLinkHtml;\n",
              "          element.appendChild(docLink);\n",
              "        }\n",
              "      </script>\n",
              "    </div>\n",
              "  </div>\n",
              "  "
            ]
          },
          "metadata": {},
          "execution_count": 15
        }
      ]
    },
    {
      "cell_type": "markdown",
      "source": [
        "Para esta questão os valores positivos da feature 'tempo_atraso' são os dias que as demandas foram respondidas decorridos o prazo legal. Isto é, são os dias em atraso."
      ],
      "metadata": {
        "id": "QDDU5afniLXZ"
      },
      "id": "QDDU5afniLXZ"
    },
    {
      "cell_type": "code",
      "source": [
        "df_atr = df_efi.copy()\n",
        "df_atr['data_abertura'] = pd.to_datetime(df_atr['data_abertura'])\n",
        "df_atr.info()"
      ],
      "metadata": {
        "id": "roOEEi66Vzmx",
        "colab": {
          "base_uri": "https://localhost:8080/"
        },
        "outputId": "b7f588b3-ac95-4461-c009-4f7f0aa84cd3"
      },
      "id": "roOEEi66Vzmx",
      "execution_count": 16,
      "outputs": [
        {
          "output_type": "stream",
          "name": "stdout",
          "text": [
            "<class 'pandas.core.frame.DataFrame'>\n",
            "Int64Index: 27867 entries, 0 to 28356\n",
            "Data columns (total 6 columns):\n",
            " #   Column         Non-Null Count  Dtype          \n",
            "---  ------         --------------  -----          \n",
            " 0   manifestacao   27867 non-null  int64          \n",
            " 1   data_abertura  27867 non-null  datetime64[ns] \n",
            " 2   data_resposta  27867 non-null  object         \n",
            " 3   prazo_legal    27867 non-null  datetime64[ns] \n",
            " 4   tempo_atraso   27867 non-null  timedelta64[ns]\n",
            " 5   em_atraso      27867 non-null  int64          \n",
            "dtypes: datetime64[ns](2), int64(2), object(1), timedelta64[ns](1)\n",
            "memory usage: 1.5+ MB\n"
          ]
        }
      ]
    },
    {
      "cell_type": "markdown",
      "source": [
        "Vamos analisar quantos atrasos houveram por mês em relação aos atendimentos realizados."
      ],
      "metadata": {
        "id": "uH-yWIHWjTvt"
      },
      "id": "uH-yWIHWjTvt"
    },
    {
      "cell_type": "code",
      "source": [
        "# Novamente utilizaremos o .resample().\n",
        "# Este primeiro termo soma a quantidade de atrasos por mês.\n",
        "termo_s = df_atr.resample('M', on='data_abertura')['em_atraso'].sum()\n",
        "\n",
        "# Este segundo termo mostra a quantidade total, é uma pequena variação do que foi usado antes na questão 1.\n",
        "termo_q = df_atr.resample('M', on='data_abertura')['em_atraso'].count()\n",
        "\n",
        "# Criar um dataframe com as informações de porcentagem de atraso para pordermos elaborar o gráfico.\n",
        "atraso = pd.DataFrame(((termo_s / termo_q) * 100)).round().reset_index()\n",
        "atraso['data_abertura'] = pd.to_datetime(atraso['data_abertura']).dt.to_period('M')\n",
        "atraso = atraso.set_index('data_abertura')"
      ],
      "metadata": {
        "id": "qzrskXSZjFsI"
      },
      "id": "qzrskXSZjFsI",
      "execution_count": 17,
      "outputs": []
    },
    {
      "cell_type": "code",
      "source": [
        "atraso.plot(kind='line',\n",
        "            figsize = (20, 5),\n",
        "            color=['r'],\n",
        "            grid=True,\n",
        "            title='Porcetagem de atraso na resposta da ouvidoria em 2021',\n",
        "            xlabel='Meses',\n",
        "            ylabel='Porcentagem')"
      ],
      "metadata": {
        "colab": {
          "base_uri": "https://localhost:8080/",
          "height": 378
        },
        "id": "ZSvKEcX8jimA",
        "outputId": "e298a21e-e2b1-42b4-f686-d9190cb5e131"
      },
      "id": "ZSvKEcX8jimA",
      "execution_count": 18,
      "outputs": [
        {
          "output_type": "execute_result",
          "data": {
            "text/plain": [
              "<matplotlib.axes._subplots.AxesSubplot at 0x7fdbf1115d50>"
            ]
          },
          "metadata": {},
          "execution_count": 18
        },
        {
          "output_type": "display_data",
          "data": {
            "text/plain": [
              "<Figure size 1440x360 with 1 Axes>"
            ],
            "image/png": "[encoded data removed]"
          },
          "metadata": {
            "needs_background": "light"
          }
        }
      ]
    },
    {
      "cell_type": "markdown",
      "source": [
        "O mês com maior pencentual de atraso frente ao número de atendimento foi o mês de maio de 2021. Lembremos que durante este período Fortaleza enfrentava um dos picos da segunda onda de COVID-19. Com o advento da democratização da vacina, já para o fim do ano, percebe-se uma diminuição na pocentagem de atraso nos atendimentos."
      ],
      "metadata": {
        "id": "ZTlq--NGvotG"
      },
      "id": "ZTlq--NGvotG"
    },
    {
      "cell_type": "markdown",
      "source": [
        "CONCLUSÃO<br>\n",
        "O site [Dados Abertos Fortaleza](https://dados.fortaleza.ce.gov.br/) é bastante promissor quanto a sua disponibilidade de dados a serem explorados. \n",
        "Quanto a análise da última questão ainda nos deixa como oportunidade a utilização de machine learning para previsão de atraso em datas futuras. Permitindo aos getores um melhor planejamento de relocação de pessoal, por exemplo."
      ],
      "metadata": {
        "id": "MyoJtcAJucL-"
      },
      "id": "MyoJtcAJucL-"
    }
  ],
  "metadata": {
    "kernelspec": {
      "display_name": "Python 3 (ipykernel)",
      "language": "python",
      "name": "python3"
    },
    "language_info": {
      "codemirror_mode": {
        "name": "ipython",
        "version": 3
      },
      "file_extension": ".py",
      "mimetype": "text/x-python",
      "name": "python",
      "nbconvert_exporter": "python",
      "pygments_lexer": "ipython3",
      "version": "3.9.9"
    },
    "colab": {
      "name": "odf2021.ipynb",
      "provenance": [],
      "collapsed_sections": [],
      "include_colab_link": true
    }
  },
  "nbformat": 4,
  "nbformat_minor": 5
}
